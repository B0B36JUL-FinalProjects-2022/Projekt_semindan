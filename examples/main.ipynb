{
 "cells": [
  {
   "attachments": {},
   "cell_type": "markdown",
   "metadata": {},
   "source": [
    "# Titanic dataset classification"
   ]
  },
  {
   "attachments": {},
   "cell_type": "markdown",
   "metadata": {},
   "source": [
    "## Setup"
   ]
  },
  {
   "cell_type": "code",
   "execution_count": null,
   "metadata": {},
   "outputs": [],
   "source": [
    "using Pkg\n",
    "Pkg.activate(\".\")"
   ]
  },
  {
   "cell_type": "code",
   "execution_count": null,
   "metadata": {},
   "outputs": [],
   "source": [
    "using Titanic\n",
    "using DataFrames\n",
    "using Statistics\n",
    "using StatsBase\n",
    "using StatsPlots\n",
    "using Flux\n",
    "using Plots"
   ]
  },
  {
   "cell_type": "code",
   "execution_count": null,
   "metadata": {},
   "outputs": [],
   "source": [
    "gr()\n",
    "theme(:lime)"
   ]
  },
  {
   "cell_type": "code",
   "execution_count": null,
   "metadata": {},
   "outputs": [],
   "source": [
    "df = read_csv_data(\"../data/train.csv\")\n",
    "describe(df)"
   ]
  },
  {
   "attachments": {},
   "cell_type": "markdown",
   "metadata": {},
   "source": [
    "## Data (pre-)processing"
   ]
  },
  {
   "attachments": {},
   "cell_type": "markdown",
   "metadata": {},
   "source": [
    "* target variable\n",
    "    * survived\n",
    "* ordinal properties(numerical)\n",
    "    * pclass\n",
    "    * age\n",
    "    * sibsp\n",
    "    * parch\n",
    "    * fare\n",
    "* nominal properties:\n",
    "    * sex\n",
    "    * name\n",
    "    * ticket\n",
    "    * cabin\n",
    "    * embarked"
   ]
  },
  {
   "attachments": {},
   "cell_type": "markdown",
   "metadata": {},
   "source": [
    "### Couple of graphs"
   ]
  },
  {
   "cell_type": "code",
   "execution_count": null,
   "metadata": {},
   "outputs": [],
   "source": [
    "@df df histogram(:Age, bins = :scott, fillalpha = 0.4)"
   ]
  },
  {
   "cell_type": "code",
   "execution_count": null,
   "metadata": {},
   "outputs": [],
   "source": [
    "gr(size = (600, 500))\n",
    "@df df corrplot([:Survived :Fare], grid = false)"
   ]
  },
  {
   "attachments": {},
   "cell_type": "markdown",
   "metadata": {},
   "source": [
    "### Missing values"
   ]
  },
  {
   "attachments": {},
   "cell_type": "markdown",
   "metadata": {},
   "source": [
    "how many values do we miss in each column?"
   ]
  },
  {
   "cell_type": "code",
   "execution_count": null,
   "metadata": {},
   "outputs": [],
   "source": [
    "Dict(map(col -> (col, (count(ismissing, df[!, col])/ nrow(df), count(ismissing, df[!, col]))), names(df)))"
   ]
  },
  {
   "attachments": {},
   "cell_type": "markdown",
   "metadata": {},
   "source": [
    "replace missing in Age with median"
   ]
  },
  {
   "cell_type": "code",
   "execution_count": null,
   "metadata": {},
   "outputs": [],
   "source": [
    "col_median = apply_to_cols(df, :Age, median)\n",
    "df = replace_in_cols(df, :Age, missing, col_median)"
   ]
  },
  {
   "attachments": {},
   "cell_type": "markdown",
   "metadata": {},
   "source": [
    "replace missing in Embarked with the most common city"
   ]
  },
  {
   "cell_type": "code",
   "execution_count": null,
   "metadata": {},
   "outputs": [],
   "source": [
    "col_city = apply_to_cols(df, :Embarked, most_common)\n",
    "df = replace_in_cols(df, :Embarked, missing, col_city)"
   ]
  },
  {
   "attachments": {},
   "cell_type": "markdown",
   "metadata": {},
   "source": [
    "replace missing in Cabin with unknown and strip numbers of cabins leaving only its class"
   ]
  },
  {
   "cell_type": "code",
   "execution_count": null,
   "metadata": {},
   "outputs": [],
   "source": [
    "unique(map(entry -> entry[begin],skipmissing(df[!, :Cabin])))"
   ]
  },
  {
   "attachments": {},
   "cell_type": "markdown",
   "metadata": {},
   "source": [
    "use 'N' for replacement"
   ]
  },
  {
   "cell_type": "code",
   "execution_count": null,
   "metadata": {},
   "outputs": [],
   "source": [
    "df = replace_in_cols(df, :Cabin, missing, \"N\") \n",
    "col_cabin = apply_to_cols(df, :Cabin, strip_cabin_numbers)\n",
    "df[!, :Cabin] = col_cabin\n",
    "df"
   ]
  },
  {
   "attachments": {},
   "cell_type": "markdown",
   "metadata": {},
   "source": [
    "### Names to titles"
   ]
  },
  {
   "cell_type": "code",
   "execution_count": null,
   "metadata": {},
   "outputs": [],
   "source": [
    "groups = get_title_groups()\n",
    "df = replace_names_with_title_categories(df, groups)"
   ]
  },
  {
   "attachments": {},
   "cell_type": "markdown",
   "metadata": {},
   "source": [
    "### Remove columns"
   ]
  },
  {
   "cell_type": "code",
   "execution_count": null,
   "metadata": {},
   "outputs": [],
   "source": [
    "df = select(df, Not([:PassengerId, :Ticket]))"
   ]
  },
  {
   "attachments": {},
   "cell_type": "markdown",
   "metadata": {},
   "source": [
    "### Nominal to Categorical"
   ]
  },
  {
   "cell_type": "code",
   "execution_count": null,
   "metadata": {},
   "outputs": [],
   "source": [
    "df = categorize(df)"
   ]
  },
  {
   "attachments": {},
   "cell_type": "markdown",
   "metadata": {},
   "source": [
    "### To Onehot"
   ]
  },
  {
   "cell_type": "code",
   "execution_count": null,
   "metadata": {},
   "outputs": [],
   "source": [
    "df = to_onehot(df, [:Name, :SibSp, :Parch, :Cabin]; remove_original=true)"
   ]
  },
  {
   "attachments": {},
   "cell_type": "markdown",
   "metadata": {},
   "source": [
    "### Corr plot"
   ]
  },
  {
   "cell_type": "code",
   "execution_count": null,
   "metadata": {},
   "outputs": [],
   "source": [
    "gr(size = (1000, 1000))\n",
    "@df df corrplot([:Survived :Fare :Age :Sex :Cabin], grid = false)"
   ]
  },
  {
   "attachments": {},
   "cell_type": "markdown",
   "metadata": {},
   "source": [
    "### Correlation matrix"
   ]
  },
  {
   "cell_type": "code",
   "execution_count": null,
   "metadata": {},
   "outputs": [],
   "source": [
    "heatmap(cor(Matrix(df)); ticks=(1:length(names(df)), names(df)), xrotation=30, yflip=true)"
   ]
  },
  {
   "attachments": {},
   "cell_type": "markdown",
   "metadata": {},
   "source": [
    "### Standartize"
   ]
  },
  {
   "cell_type": "code",
   "execution_count": null,
   "metadata": {},
   "outputs": [],
   "source": [
    "survived = df[!, :Survived]\n",
    "df = standartize(df)\n",
    "df.Survived = survived\n",
    "df"
   ]
  },
  {
   "attachments": {},
   "cell_type": "markdown",
   "metadata": {},
   "source": [
    "## Splitting the dataset"
   ]
  },
  {
   "cell_type": "code",
   "execution_count": null,
   "metadata": {},
   "outputs": [],
   "source": [
    "trn, val, tst = random_split(df, [0.6, 0.2, 0.2])"
   ]
  },
  {
   "attachments": {},
   "cell_type": "markdown",
   "metadata": {},
   "source": [
    "## Models"
   ]
  },
  {
   "attachments": {},
   "cell_type": "markdown",
   "metadata": {},
   "source": [
    "### K-nn"
   ]
  },
  {
   "cell_type": "code",
   "execution_count": null,
   "metadata": {},
   "outputs": [],
   "source": [
    "survived = df[!, :Survived]\n",
    "df = standartize(df)\n",
    "df.Survived = survived\n",
    "df"
   ]
  },
  {
   "cell_type": "code",
   "execution_count": null,
   "metadata": {},
   "outputs": [],
   "source": [
    "knn = K_nn(;n=5, metric=Titanic.l2)\n",
    "model_fit!(knn, trn[!, [:Fare, :Sex]], trn[!, :Survived])\n",
    "val_X, val_y = val[!, [:Fare, :Sex]], val[!, :Survived]\n",
    "val_preds = model_predict(knn, val_X)\n",
    "accuracy(val_y, val_preds)"
   ]
  },
  {
   "cell_type": "code",
   "execution_count": null,
   "metadata": {},
   "outputs": [],
   "source": [
    "tst_X, tst_y = tst[!, [:Fare, :Sex]], tst[!, :Survived]\n",
    "accuracy(model_predict(knn, tst_X), tst_y)"
   ]
  },
  {
   "attachments": {},
   "cell_type": "markdown",
   "metadata": {},
   "source": [
    "### Logistic regression"
   ]
  },
  {
   "cell_type": "code",
   "execution_count": null,
   "metadata": {},
   "outputs": [],
   "source": [
    "logreg = Log_reg()\n",
    "trn_X, trn_y = trn[!, Not(:Survived)], trn[!, :Survived]\n",
    "model_fit!(logreg, trn_X, trn_y)\n",
    "val_X, val_y = val[!, Not(:Survived)], val[!, :Survived]\n",
    "accuracy(model_predict(logreg, val_X), val_y)"
   ]
  },
  {
   "cell_type": "code",
   "execution_count": null,
   "metadata": {},
   "outputs": [],
   "source": [
    "tst_X, tst_y = tst[!, Not(:Survived)], tst[!, :Survived]\n",
    "accuracy(model_predict(logreg, tst_X), tst_y)"
   ]
  },
  {
   "attachments": {},
   "cell_type": "markdown",
   "metadata": {},
   "source": [
    "### NN"
   ]
  },
  {
   "cell_type": "code",
   "execution_count": null,
   "metadata": {},
   "outputs": [],
   "source": [
    "trn_X, trn_y = trn[!, Not(:Survived)], trn[!, :Survived]\n",
    "val_X, val_y = val[!, Not(:Survived)], val[!, :Survived]\n",
    "\n",
    "args = Args(lr = 0.0005, batchsize=16, epochs=30, ratios=[0.8, 0.2])\n",
    "\n",
    "m = Chain(Dense(length(names(trn_X)), 32, relu),\n",
    "          Dense(32, 32, relu),\n",
    "          Dense(32, 32, sigmoid),\n",
    "          Dense(32, 32, relu),\n",
    "          Dense(32, 32, sigmoid),\n",
    "          Dense(32, 16, sigmoid),\n",
    "          Dense(16, 8, relu),\n",
    "          Dense(8, 2))\n",
    "nn = Neural_network(;args = args, m=m)\n",
    "model_fit!(nn, trn_X, trn_y, val_X, val_y; verbose = false)\n",
    "accuracy(model_predict(nn, val_X), val_y)"
   ]
  },
  {
   "cell_type": "code",
   "execution_count": null,
   "metadata": {},
   "outputs": [],
   "source": [
    "tst_X, tst_y = tst[!, Not(:Survived)], tst[!, :Survived]\n",
    "accuracy(model_predict(nn, tst_X), tst_y)"
   ]
  },
  {
   "attachments": {},
   "cell_type": "markdown",
   "metadata": {},
   "source": [
    "### Decision tree"
   ]
  },
  {
   "cell_type": "code",
   "execution_count": null,
   "metadata": {},
   "outputs": [],
   "source": [
    "dt = Decision_tree(max_depth = 5; criterion=entropy_local)"
   ]
  },
  {
   "cell_type": "code",
   "execution_count": null,
   "metadata": {},
   "outputs": [],
   "source": [
    "trn_X, trn_y = trn[!, Not(:Survived)], trn[!, :Survived]\n",
    "model_fit!(dt, trn_X, trn_y)\n",
    "val_X, val_y = val[!, Not(:Survived)], val[!, :Survived]\n",
    "accuracy(model_predict(dt, val_X), val_y)"
   ]
  },
  {
   "cell_type": "code",
   "execution_count": null,
   "metadata": {},
   "outputs": [],
   "source": [
    "tst_X, tst_y = tst[!, Not(:Survived)], tst[!, :Survived]\n",
    "accuracy(model_predict(dt, tst_X), tst_y)"
   ]
  }
 ],
 "metadata": {
  "kernelspec": {
   "display_name": "Julia 1.8.5",
   "language": "julia",
   "name": "julia-1.8"
  },
  "language_info": {
   "file_extension": ".jl",
   "mimetype": "application/julia",
   "name": "julia",
   "version": "1.8.5"
  },
  "orig_nbformat": 4
 },
 "nbformat": 4,
 "nbformat_minor": 2
}
